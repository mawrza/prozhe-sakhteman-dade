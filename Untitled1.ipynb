{
  "nbformat": 4,
  "nbformat_minor": 0,
  "metadata": {
    "colab": {
      "provenance": []
    },
    "kernelspec": {
      "name": "python3",
      "display_name": "Python 3"
    },
    "language_info": {
      "name": "python"
    }
  },
  "cells": [
    {
      "cell_type": "code",
      "execution_count": null,
      "metadata": {
        "id": "UTAJpf_0zADW"
      },
      "outputs": [],
      "source": [
        "def max(lst):\n",
        "  x=lst[0]\n",
        "  for i in range (1 , len(lst)):\n",
        "    if lst[i]> x :\n",
        "      x= lst[i]\n",
        "  return x\n"
      ]
    },
    {
      "cell_type": "code",
      "source": [
        "def f(x,y,n):\n",
        "  if x>y:\n",
        "    for i in range (n):\n",
        "      print(i)\n",
        "  else:\n",
        "    for i in range (n):\n",
        "      for j in range (n):\n",
        "        print (i , j)\n"
      ],
      "metadata": {
        "id": "auXt6V6Uzaoh"
      },
      "execution_count": null,
      "outputs": []
    },
    {
      "cell_type": "code",
      "source": [
        "import matplotlib.pyplot as plt\n",
        "\n",
        "lst = [10,100,1000,10000,100000,1000000]\n",
        "def avg (s):\n",
        "  n = len(s)\n",
        "  A=[0]*n\n",
        "  for j in range (n):\n",
        "    total=0\n",
        "    for i in range(j+1):\n",
        "      total += s[i]\n",
        "    A[j]= total/(j+1)\n",
        "  return A\n",
        "\n",
        "avg_lst = avg(lst)\n",
        "\n",
        "plt.plot(avg_lst)\n",
        "plt.xlabel('index')\n",
        "plt.ylabel('average')\n",
        "plt.title('Average value in list')\n",
        "plt.show()\n"
      ],
      "metadata": {
        "id": "giJ5LuLozaxA"
      },
      "execution_count": null,
      "outputs": []
    },
    {
      "cell_type": "code",
      "source": [
        "import matplotlib.pyplot as plt\n",
        "\n",
        "lst = [1,2,3,4,5,6,7,8,9,10]\n",
        "\n",
        "def max (lst):\n",
        "  x = lst [0]\n",
        "  for i in range(1,len(lst)):\n",
        "    if lst[i]>x:\n",
        "      x = lst[i]\n",
        "  return x\n",
        "\n",
        "plt.plot(lst)\n",
        "plt.xlabel('index')\n",
        "plt.ylabel('value')\n",
        "plt.title('max value in list')\n",
        "plt.show()\n"
      ],
      "metadata": {
        "id": "5n_omt5Fza3w"
      },
      "execution_count": null,
      "outputs": []
    },
    {
      "cell_type": "code",
      "source": [
        "def disjoint(A,B,C):\n",
        "  for a in A:\n",
        "    for b in B:\n",
        "      if a == b:\n",
        "       for c in C:\n",
        "        if a == c:\n",
        "          return False\n"
      ],
      "metadata": {
        "id": "OjeYHF7aza-I"
      },
      "execution_count": null,
      "outputs": []
    },
    {
      "cell_type": "code",
      "source": [
        "def disjoint(A , B , C):\n",
        "  for a in A:\n",
        "    for b in B:\n",
        "      for c in C:\n",
        "        if (a ==b == c):\n",
        "          return False\n",
        "    return True\n"
      ],
      "metadata": {
        "id": "2d_02_LZzbEg"
      },
      "execution_count": null,
      "outputs": []
    },
    {
      "cell_type": "code",
      "source": [
        "def r(a):\n",
        "  n = len (a)\n",
        "  x = [None]*n\n",
        "  for j in range (n):\n",
        "    x[n-1-j]= a[j]\n",
        "    return x\n"
      ],
      "metadata": {
        "id": "yHwQ6cT3zbLR"
      },
      "execution_count": null,
      "outputs": []
    },
    {
      "cell_type": "code",
      "source": [
        "def r(a):\n",
        "  n = len (a)\n",
        "  for i in range (n//2):\n",
        "    a[i], a[n-1 -i]=a[n-1-i],a[i]\n",
        "  return a\n"
      ],
      "metadata": {
        "id": "NRI1gJoqzbRX"
      },
      "execution_count": null,
      "outputs": []
    },
    {
      "cell_type": "code",
      "source": [
        "def respost(Lst) :\n",
        "  s = stack((len(Lst)) // 2 )\n",
        "  for e in Lst :\n",
        "    if e == '*' :\n",
        "      t2 = s.pop()\n",
        "      t1 : s.pop()\n",
        "      t = t1 * t2\n",
        "      s.push(t)\n",
        "  else :\n",
        "    s.push(e)\n",
        "  return s.stack[0]\n"
      ],
      "metadata": {
        "id": "yYm3YVV5zbWx"
      },
      "execution_count": null,
      "outputs": []
    },
    {
      "cell_type": "code",
      "source": [
        "def a(n):\n",
        "  for j in range (n):\n",
        "   i = 1\n",
        "   while i <n :\n",
        "\n",
        "      i *2\n"
      ],
      "metadata": {
        "id": "TGnqsmBpzbcZ"
      },
      "execution_count": null,
      "outputs": []
    },
    {
      "cell_type": "code",
      "source": [
        "def Match_s(str) :\n",
        "  s=stack()\n",
        "  for i in str :\n",
        "    if i in '([{' :\n",
        "      s.push(i)\n",
        "    elif i in ')]}' :\n",
        "      if s.peek() == i :\n",
        "        s.pop()\n",
        "      else :\n",
        "         return False\n",
        "  if s.is_empty() :\n",
        "    return True\n",
        "  else :\n",
        "    return False\n"
      ],
      "metadata": {
        "id": "6NuEneF6zbhg"
      },
      "execution_count": null,
      "outputs": []
    },
    {
      "cell_type": "code",
      "source": [
        "class node :\n",
        "  def init(self , d):\n",
        "    self.data = d\n",
        "    self.nexte = None\n"
      ],
      "metadata": {
        "id": "10T38-30zbmR"
      },
      "execution_count": null,
      "outputs": []
    },
    {
      "cell_type": "code",
      "source": [
        "class Queue:\n",
        "  def init (self , k):\n",
        "    self.k = k\n",
        "    self.queue=[None]*k\n",
        "    self.front= -1\n",
        "    self.rear = -1\n"
      ],
      "metadata": {
        "id": "wyohO7zNzbsC"
      },
      "execution_count": null,
      "outputs": []
    },
    {
      "cell_type": "code",
      "source": [
        "class Linkedlist :\n",
        "  def init(self):\n",
        "    self.head = None\n"
      ],
      "metadata": {
        "id": "vm8oI8FTzbxp"
      },
      "execution_count": null,
      "outputs": []
    },
    {
      "cell_type": "code",
      "source": [
        "def display(self) :\n",
        "  t = node()\n",
        "  t = self.head\n",
        "  while (t != None) :\n",
        "    print (t.data , end = ' --> ')\n",
        "    t = t.next\n",
        "    print ('None')\n"
      ],
      "metadata": {
        "id": "STCc-7IWzb35"
      },
      "execution_count": null,
      "outputs": []
    },
    {
      "cell_type": "code",
      "source": [
        "def addinstart (self , data) :\n",
        "  n = node (data)\n",
        "  n.next = self.head\n",
        "  self.head = n\n"
      ],
      "metadata": {
        "id": "D6PhYXmE0Yvy"
      },
      "execution_count": null,
      "outputs": []
    },
    {
      "cell_type": "code",
      "source": [
        "class Queue:\n",
        "   def disqueue (self):\n",
        "    if self.front == -1:\n",
        "      print('empty')\n",
        "      for i in range (self.front , self.rear+1):\n",
        "        print(self.queue[i])\n"
      ],
      "metadata": {
        "id": "-uwdgp9E0Z64"
      },
      "execution_count": null,
      "outputs": []
    },
    {
      "cell_type": "code",
      "source": [
        "def addinend (self , data) :\n",
        "  n = node(data)\n",
        "  t = self.head\n",
        "  if (t == None):\n",
        "    self.head = n\n",
        "  else :\n",
        "    while (t.next) :\n",
        "      t = t.next\n",
        "    t.next = n\n"
      ],
      "metadata": {
        "id": "xb-0xHDj0Z_O"
      },
      "execution_count": null,
      "outputs": []
    },
    {
      "cell_type": "code",
      "source": [
        "def insqueue(self , data):\n",
        "  if (self.rear == -1):\n",
        "    self.front=0\n",
        "    self.rear = 0\n",
        "    self.queue[0]=data\n",
        "    if(self.rear +1 == self.k):\n",
        "      print('is full')\n",
        "      return\n",
        "    else:\n",
        "      self.rear +=1\n",
        "      self.queue[self.rear]= data\n"
      ],
      "metadata": {
        "id": "JKEWybEl0aDQ"
      },
      "execution_count": null,
      "outputs": []
    },
    {
      "cell_type": "code",
      "source": [
        "class Linkedlist :\n",
        "  def init(self) :\n",
        "    self.head = None\n",
        "  def addafter(self,m,d) :\n",
        "    n = node(d)\n",
        "    t = self.head\n",
        "    while (t.data != m) :\n",
        "      t = t.next\n",
        "      t.next = n\n"
      ],
      "metadata": {
        "id": "ot5ZlqsN0aHY"
      },
      "execution_count": null,
      "outputs": []
    },
    {
      "cell_type": "code",
      "source": [
        "def delfirst(self) :\n",
        "  if(self.head == None) :\n",
        "    return 'empty'\n",
        "  else :\n",
        "    self.head = self.head.next\n"
      ],
      "metadata": {
        "id": "te61Qhxo0aKI"
      },
      "execution_count": null,
      "outputs": []
    },
    {
      "cell_type": "code",
      "source": [
        "def dellast (self) :\n",
        "  if (t== None )\n",
        "  while (t.next.next != None ) :\n",
        "    t = t.next\n",
        "  t.next = None\n"
      ],
      "metadata": {
        "id": "QM53o1p-0aLN"
      },
      "execution_count": null,
      "outputs": []
    },
    {
      "cell_type": "code",
      "source": [
        "def delafter (self , m ):\n",
        "  t = self.head\n",
        "  while (t.data != m) :\n",
        "    t = t.next\n",
        "  t.next = t.nex.next\n"
      ],
      "metadata": {
        "id": "6jE2XXKI0aO3"
      },
      "execution_count": null,
      "outputs": []
    },
    {
      "cell_type": "code",
      "source": [
        "class dnode :\n",
        "  def init(self , data) :\n",
        "    self.data = data\n",
        "    self.next = None\n",
        "    self.prev = None\n"
      ],
      "metadata": {
        "id": "PgTcciBl0aRp"
      },
      "execution_count": null,
      "outputs": []
    },
    {
      "cell_type": "code",
      "source": [
        "def delqueue(self):\n",
        "  if (self.front== -1):\n",
        "    print('empty')\n",
        "  elif self.front== self.rear:\n",
        "      t= self.queue[self.front]\n",
        "      self.front= -1\n",
        "      self.rear = -1\n",
        "      return t\n",
        "  else:\n",
        "        t= self.queue[self.front]\n",
        "        self.front= -1\n",
        "        return t\n"
      ],
      "metadata": {
        "id": "BJ_KeQom0aSy"
      },
      "execution_count": null,
      "outputs": []
    },
    {
      "cell_type": "code",
      "source": [
        "class dLinkedlist :\n",
        "  def init (self) :\n",
        "    self.head = None\n",
        "  def display (self):\n",
        "    t =self.head\n",
        "    while (t !=None) :\n",
        "      print (t.data ,' <--> ')\n",
        "      t = t.next\n",
        "    print('None')\n"
      ],
      "metadata": {
        "id": "FZH-Uv0d0aWP"
      },
      "execution_count": null,
      "outputs": []
    },
    {
      "cell_type": "code",
      "source": [
        "def addinstart (self , d) :\n",
        "  n = dnode()\n",
        "  if self.head != None\n",
        "     n.next = self.head\n",
        "     self.head.prev = n\n",
        "  self.head = n\n"
      ],
      "metadata": {
        "id": "xLXcvYyr1G-Y"
      },
      "execution_count": null,
      "outputs": []
    },
    {
      "cell_type": "code",
      "source": [
        "def insqueue_c(self , data ,k):\n",
        "  if ((self.rear+1)% k ==self.front):\n",
        "    print ('full')\n",
        "  elif(self.front== -1):\n",
        "      self.front=0\n",
        "      self.rear = 0\n",
        "      self.queue[self.rear]= data\n",
        "  else:\n",
        "      self.rear +=1\n",
        "      self.queue[self.rear]= data\n"
      ],
      "metadata": {
        "id": "orciiqVV1HGq"
      },
      "execution_count": null,
      "outputs": []
    },
    {
      "cell_type": "code",
      "source": [
        "def addinend (self , d) :\n",
        "  n = dnode(d)\n",
        "  if self.head != None :\n",
        "    t = self.head\n",
        "    while (t.next != None) :\n",
        "      t = t.next\n",
        "    t.next = n\n",
        "    n.prev = t\n",
        "  else :\n",
        "    self.head = n\n"
      ],
      "metadata": {
        "id": "9Ce3egGU1HOY"
      },
      "execution_count": null,
      "outputs": []
    },
    {
      "cell_type": "code",
      "source": [
        "def delqueue_c(self,k):\n",
        "  if (self.front== -1):\n",
        "    print('empty')\n",
        "  elif self.front== self.rear:\n",
        "      t= self.queue[self.front]\n",
        "      self.front= -1\n",
        "      self.rear = -1\n",
        "      return t\n",
        "  else:\n",
        "        t= self.queue[self.front]\n",
        "        self.front= (self.front +1)% k\n",
        "        return t\n"
      ],
      "metadata": {
        "id": "30_fbz0H1HUx"
      },
      "execution_count": null,
      "outputs": []
    },
    {
      "cell_type": "code",
      "source": [
        "class stack():\n",
        "  def init (self,limit =10):\n",
        "    self.stack =[]\n",
        "    self.limit =limit\n"
      ],
      "metadata": {
        "id": "-t112yi41Haa"
      },
      "execution_count": null,
      "outputs": []
    },
    {
      "cell_type": "code",
      "source": [
        "def delfirst(self) :\n",
        "  if(self.head == None) :\n",
        "    return -1\n",
        "  self.head = self.head.next\n",
        "  self.head.prev.None\n"
      ],
      "metadata": {
        "id": "OKlgDmZ51Hgf"
      },
      "execution_count": null,
      "outputs": []
    },
    {
      "cell_type": "code",
      "source": [
        "def pop(self):\n",
        "  if len(self.stack)<= 0:\n",
        "    return -1\n",
        "  else:\n",
        "    return self.stack.pop()\n"
      ],
      "metadata": {
        "id": "tRJW6X5f1URX"
      },
      "execution_count": null,
      "outputs": []
    },
    {
      "cell_type": "code",
      "source": [
        "def peek(self):\n",
        "  if len (self.stack)<=0:\n",
        "    return -1\n",
        "  else:\n",
        "    return self.stack[len(self.stack)-1]\n"
      ],
      "metadata": {
        "id": "AU1vsLtC1Uho"
      },
      "execution_count": null,
      "outputs": []
    },
    {
      "cell_type": "code",
      "source": [
        "def push(self , data):\n",
        "  if len(self.stack)>= self.limit:\n",
        "    return -1\n",
        "  else:\n",
        "    self.stack.append(data)\n"
      ],
      "metadata": {
        "id": "N55ET0nN1Ukj"
      },
      "execution_count": null,
      "outputs": []
    },
    {
      "cell_type": "code",
      "source": [
        "def delete (self , data ) :\n",
        "  if self.head == None :\n",
        "    print (\"empty\")\n",
        "    return\n",
        "  if self.head.next = self.head :\n",
        "    if self.head.data == data :\n",
        "      self.head = None\n",
        "      return\n",
        "    return -1\n",
        "  t = self.head\n",
        "  while (t .data != data ) :\n",
        "    p = t\n",
        "    t = t.next\n",
        "    if t == self.head :\n",
        "      return -1\n",
        "  p.next = t.next\n",
        "  t.next = None\n"
      ],
      "metadata": {
        "id": "yE34wYQb1a33"
      },
      "execution_count": null,
      "outputs": []
    },
    {
      "cell_type": "code",
      "source": [
        "def display(self):\n",
        "  if len (self.stack)<=0:\n",
        "    return -1\n",
        "  else:\n",
        "    for i in self.stack:\n",
        "      print(i)\n"
      ],
      "metadata": {
        "id": "Zp6kkH6a1a-L"
      },
      "execution_count": null,
      "outputs": []
    },
    {
      "cell_type": "code",
      "source": [
        "class BTnode() :\n",
        "  def init(self , data , left = None , right = None ) :\n",
        "    self.data = data\n",
        "    self.left = left\n",
        "    self.right = right\n"
      ],
      "metadata": {
        "id": "ZCLiMOEP1bCx"
      },
      "execution_count": null,
      "outputs": []
    },
    {
      "cell_type": "code",
      "source": [
        "class Btree() :\n",
        "  def init(self , root = None ) :\n",
        "    self.rot = root\n",
        "  def inorder(self , root ) :\n",
        "    if (root == None ) :\n",
        "      return\n",
        "    else :\n",
        "      self.inorder(root.left)\n",
        "      print(root.data)\n",
        "      self.inorder(root.right)\n"
      ],
      "metadata": {
        "id": "_NgKb71v1gPQ"
      },
      "execution_count": null,
      "outputs": []
    },
    {
      "cell_type": "code",
      "source": [
        "def is_empty(self):\n",
        "  if len (self.stack)<=0:\n",
        "    return True\n",
        "  else:\n",
        "    return False\n"
      ],
      "metadata": {
        "id": "A-L-_2DD1gSh"
      },
      "execution_count": null,
      "outputs": []
    },
    {
      "cell_type": "code",
      "source": [
        "def reverse(lst):\n",
        "  s=stack()\n",
        "  for e in lst:\n",
        "    s.push(e)\n",
        "  for i in range (len (lst)):\n",
        "    lst[i]= s.pop()\n"
      ],
      "metadata": {
        "id": "nggkBKIr1gVo"
      },
      "execution_count": null,
      "outputs": []
    },
    {
      "cell_type": "code",
      "source": [
        "def addafter (self , m , data ) :\n",
        "  if self.head == None\n",
        "     return -1\n",
        "    n = node(data)\n",
        "    t = self.head\n",
        "    while t.data != m:\n",
        "      t = t.next\n",
        "      if t == self.head :\n",
        "        return -1\n"
      ],
      "metadata": {
        "id": "KMiyybut1gwH"
      },
      "execution_count": null,
      "outputs": []
    },
    {
      "cell_type": "code",
      "source": [
        "def reverse_stack(s):\n",
        "  s1=stack()\n",
        "  s2 = stack()\n",
        "  while not s.is_empty():\n",
        "    s1.push(s.pop())\n",
        "  while not s1.is_empty():\n",
        "    s2.push(s1.pop())\n",
        "  while not s2.is_empty():\n",
        "    s.push(s2.pop())\n"
      ],
      "metadata": {
        "id": "jBxIqZIR1gyx"
      },
      "execution_count": null,
      "outputs": []
    },
    {
      "cell_type": "code",
      "source": [
        "def delmid(self) :\n",
        "  t = self.head\n",
        "  count = 0\n",
        "  while (t!=None):\n",
        "    t = t.next\n",
        "    count += 1\n",
        "  t = self.head\n",
        "if count % 2 == 0 :\n",
        "  for i in range ( count // 2) :\n",
        "    t = t.next\n",
        "else :\n",
        "  for i in range (count //2 +1) :\n",
        "    t = t.next\n",
        "  t.next.prev = t.prev\n",
        "  t.prev.next = t.next\n",
        "  t.next = None\n",
        "  t.prev = None\n"
      ],
      "metadata": {
        "id": "4_SDC6Da1rsa"
      },
      "execution_count": null,
      "outputs": []
    },
    {
      "cell_type": "code",
      "source": [
        "class cLinkedlist :\n",
        "  def init(self) :\n",
        "    self.head = None\n",
        "  def display(self) :\n",
        "    t = self.head\n",
        "    if t is None :\n",
        "      print(\"empty\")\n",
        "      return\n",
        "    while t.next != self.head :\n",
        "      print(t.data , end = ' --> ')\n",
        "      t = t.next\n",
        "    print(t.data)\n"
      ],
      "metadata": {
        "id": "OERV4zDb1rzU"
      },
      "execution_count": null,
      "outputs": []
    },
    {
      "cell_type": "code",
      "source": [
        "def dec2bin(number):\n",
        "  s = stack()\n",
        "  while number >0:\n",
        "    r = number%2\n",
        "    s.push(r)\n",
        "    number = number//2\n",
        "    b = \"\"\n",
        "  while not s.is_empty():\n",
        "    b = b +str(s.pop())\n",
        "  return b\n"
      ],
      "metadata": {
        "id": "cLNA_Zdf1g1Z"
      },
      "execution_count": null,
      "outputs": []
    }
  ]
}